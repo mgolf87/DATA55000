{
 "cells": [
  {
   "cell_type": "markdown",
   "id": "4345fff0",
   "metadata": {},
   "source": [
    "# DATA55000 - Final Project:\n",
    "    Lewis, 2021 Summer 2\n",
    "    Mathew Golf\n",
    "    mathewggolf@lewisu.edu"
   ]
  },
  {
   "cell_type": "code",
   "execution_count": 13,
   "id": "1de720b0",
   "metadata": {},
   "outputs": [],
   "source": [
    "# Import packages\n",
    "%matplotlib inline\n",
    "import pandas as pd \n",
    "import numpy as np\n",
    "from sklearn import preprocessing\n",
    "from sklearn.model_selection import train_test_split\n",
    "import matplotlib.pyplot as plt"
   ]
  },
  {
   "cell_type": "code",
   "execution_count": 14,
   "id": "625068c2",
   "metadata": {},
   "outputs": [
    {
     "data": {
      "text/html": [
       "<div>\n",
       "<style scoped>\n",
       "    .dataframe tbody tr th:only-of-type {\n",
       "        vertical-align: middle;\n",
       "    }\n",
       "\n",
       "    .dataframe tbody tr th {\n",
       "        vertical-align: top;\n",
       "    }\n",
       "\n",
       "    .dataframe thead th {\n",
       "        text-align: right;\n",
       "    }\n",
       "</style>\n",
       "<table border=\"1\" class=\"dataframe\">\n",
       "  <thead>\n",
       "    <tr style=\"text-align: right;\">\n",
       "      <th></th>\n",
       "      <th>class</th>\n",
       "      <th>cap-shape</th>\n",
       "      <th>cap-surface</th>\n",
       "      <th>cap-color</th>\n",
       "      <th>bruises</th>\n",
       "      <th>odor</th>\n",
       "      <th>gill-attachment</th>\n",
       "      <th>gill-spacing</th>\n",
       "      <th>gill-size</th>\n",
       "      <th>gill-color</th>\n",
       "      <th>...</th>\n",
       "      <th>stalk-surface-below-ring</th>\n",
       "      <th>stalk-color-above-ring</th>\n",
       "      <th>stalk-color-below-ring</th>\n",
       "      <th>veil-type</th>\n",
       "      <th>veil-color</th>\n",
       "      <th>ring-number</th>\n",
       "      <th>ring-type</th>\n",
       "      <th>spore-print-color</th>\n",
       "      <th>population</th>\n",
       "      <th>habitat</th>\n",
       "    </tr>\n",
       "  </thead>\n",
       "  <tbody>\n",
       "    <tr>\n",
       "      <th>0</th>\n",
       "      <td>p</td>\n",
       "      <td>x</td>\n",
       "      <td>s</td>\n",
       "      <td>n</td>\n",
       "      <td>t</td>\n",
       "      <td>p</td>\n",
       "      <td>f</td>\n",
       "      <td>c</td>\n",
       "      <td>n</td>\n",
       "      <td>k</td>\n",
       "      <td>...</td>\n",
       "      <td>s</td>\n",
       "      <td>w</td>\n",
       "      <td>w</td>\n",
       "      <td>p</td>\n",
       "      <td>w</td>\n",
       "      <td>o</td>\n",
       "      <td>p</td>\n",
       "      <td>k</td>\n",
       "      <td>s</td>\n",
       "      <td>u</td>\n",
       "    </tr>\n",
       "    <tr>\n",
       "      <th>1</th>\n",
       "      <td>e</td>\n",
       "      <td>x</td>\n",
       "      <td>s</td>\n",
       "      <td>y</td>\n",
       "      <td>t</td>\n",
       "      <td>a</td>\n",
       "      <td>f</td>\n",
       "      <td>c</td>\n",
       "      <td>b</td>\n",
       "      <td>k</td>\n",
       "      <td>...</td>\n",
       "      <td>s</td>\n",
       "      <td>w</td>\n",
       "      <td>w</td>\n",
       "      <td>p</td>\n",
       "      <td>w</td>\n",
       "      <td>o</td>\n",
       "      <td>p</td>\n",
       "      <td>n</td>\n",
       "      <td>n</td>\n",
       "      <td>g</td>\n",
       "    </tr>\n",
       "    <tr>\n",
       "      <th>2</th>\n",
       "      <td>e</td>\n",
       "      <td>b</td>\n",
       "      <td>s</td>\n",
       "      <td>w</td>\n",
       "      <td>t</td>\n",
       "      <td>l</td>\n",
       "      <td>f</td>\n",
       "      <td>c</td>\n",
       "      <td>b</td>\n",
       "      <td>n</td>\n",
       "      <td>...</td>\n",
       "      <td>s</td>\n",
       "      <td>w</td>\n",
       "      <td>w</td>\n",
       "      <td>p</td>\n",
       "      <td>w</td>\n",
       "      <td>o</td>\n",
       "      <td>p</td>\n",
       "      <td>n</td>\n",
       "      <td>n</td>\n",
       "      <td>m</td>\n",
       "    </tr>\n",
       "    <tr>\n",
       "      <th>3</th>\n",
       "      <td>p</td>\n",
       "      <td>x</td>\n",
       "      <td>y</td>\n",
       "      <td>w</td>\n",
       "      <td>t</td>\n",
       "      <td>p</td>\n",
       "      <td>f</td>\n",
       "      <td>c</td>\n",
       "      <td>n</td>\n",
       "      <td>n</td>\n",
       "      <td>...</td>\n",
       "      <td>s</td>\n",
       "      <td>w</td>\n",
       "      <td>w</td>\n",
       "      <td>p</td>\n",
       "      <td>w</td>\n",
       "      <td>o</td>\n",
       "      <td>p</td>\n",
       "      <td>k</td>\n",
       "      <td>s</td>\n",
       "      <td>u</td>\n",
       "    </tr>\n",
       "    <tr>\n",
       "      <th>4</th>\n",
       "      <td>e</td>\n",
       "      <td>x</td>\n",
       "      <td>s</td>\n",
       "      <td>g</td>\n",
       "      <td>f</td>\n",
       "      <td>n</td>\n",
       "      <td>f</td>\n",
       "      <td>w</td>\n",
       "      <td>b</td>\n",
       "      <td>k</td>\n",
       "      <td>...</td>\n",
       "      <td>s</td>\n",
       "      <td>w</td>\n",
       "      <td>w</td>\n",
       "      <td>p</td>\n",
       "      <td>w</td>\n",
       "      <td>o</td>\n",
       "      <td>e</td>\n",
       "      <td>n</td>\n",
       "      <td>a</td>\n",
       "      <td>g</td>\n",
       "    </tr>\n",
       "  </tbody>\n",
       "</table>\n",
       "<p>5 rows × 23 columns</p>\n",
       "</div>"
      ],
      "text/plain": [
       "  class cap-shape cap-surface cap-color bruises odor gill-attachment  \\\n",
       "0     p         x           s         n       t    p               f   \n",
       "1     e         x           s         y       t    a               f   \n",
       "2     e         b           s         w       t    l               f   \n",
       "3     p         x           y         w       t    p               f   \n",
       "4     e         x           s         g       f    n               f   \n",
       "\n",
       "  gill-spacing gill-size gill-color  ... stalk-surface-below-ring  \\\n",
       "0            c         n          k  ...                        s   \n",
       "1            c         b          k  ...                        s   \n",
       "2            c         b          n  ...                        s   \n",
       "3            c         n          n  ...                        s   \n",
       "4            w         b          k  ...                        s   \n",
       "\n",
       "  stalk-color-above-ring stalk-color-below-ring veil-type veil-color  \\\n",
       "0                      w                      w         p          w   \n",
       "1                      w                      w         p          w   \n",
       "2                      w                      w         p          w   \n",
       "3                      w                      w         p          w   \n",
       "4                      w                      w         p          w   \n",
       "\n",
       "  ring-number ring-type spore-print-color population habitat  \n",
       "0           o         p                 k          s       u  \n",
       "1           o         p                 n          n       g  \n",
       "2           o         p                 n          n       m  \n",
       "3           o         p                 k          s       u  \n",
       "4           o         e                 n          a       g  \n",
       "\n",
       "[5 rows x 23 columns]"
      ]
     },
     "execution_count": 14,
     "metadata": {},
     "output_type": "execute_result"
    }
   ],
   "source": [
    "# Import the dataset - able to switch dependent on which dataset is approbed (posted discussion for this)\n",
    "mushrooms = pd.read_csv(\"C:/Users/Mathe/Desktop/mushrooms.csv\")\n",
    "mushrooms.head()"
   ]
  },
  {
   "cell_type": "code",
   "execution_count": 15,
   "id": "b0a2445d",
   "metadata": {},
   "outputs": [
    {
     "data": {
      "text/plain": [
       "(8124, 23)"
      ]
     },
     "execution_count": 15,
     "metadata": {},
     "output_type": "execute_result"
    }
   ],
   "source": [
    "mushrooms.shape\n",
    "\n",
    "# Mushroom Classification Dataset from Kaggle: \n",
    "# https://www.kaggle.com/uciml/mushroom-classification\n",
    "# this dataset has 8124 samples and 23 features"
   ]
  },
  {
   "cell_type": "code",
   "execution_count": 16,
   "id": "34f213de",
   "metadata": {},
   "outputs": [
    {
     "data": {
      "text/html": [
       "<div>\n",
       "<style scoped>\n",
       "    .dataframe tbody tr th:only-of-type {\n",
       "        vertical-align: middle;\n",
       "    }\n",
       "\n",
       "    .dataframe tbody tr th {\n",
       "        vertical-align: top;\n",
       "    }\n",
       "\n",
       "    .dataframe thead th {\n",
       "        text-align: right;\n",
       "    }\n",
       "</style>\n",
       "<table border=\"1\" class=\"dataframe\">\n",
       "  <thead>\n",
       "    <tr style=\"text-align: right;\">\n",
       "      <th></th>\n",
       "      <th>count</th>\n",
       "      <th>unique</th>\n",
       "      <th>top</th>\n",
       "      <th>freq</th>\n",
       "    </tr>\n",
       "  </thead>\n",
       "  <tbody>\n",
       "    <tr>\n",
       "      <th>class</th>\n",
       "      <td>8124</td>\n",
       "      <td>2</td>\n",
       "      <td>e</td>\n",
       "      <td>4208</td>\n",
       "    </tr>\n",
       "    <tr>\n",
       "      <th>cap-shape</th>\n",
       "      <td>8124</td>\n",
       "      <td>6</td>\n",
       "      <td>x</td>\n",
       "      <td>3656</td>\n",
       "    </tr>\n",
       "    <tr>\n",
       "      <th>cap-surface</th>\n",
       "      <td>8124</td>\n",
       "      <td>4</td>\n",
       "      <td>y</td>\n",
       "      <td>3244</td>\n",
       "    </tr>\n",
       "    <tr>\n",
       "      <th>cap-color</th>\n",
       "      <td>8124</td>\n",
       "      <td>10</td>\n",
       "      <td>n</td>\n",
       "      <td>2284</td>\n",
       "    </tr>\n",
       "    <tr>\n",
       "      <th>bruises</th>\n",
       "      <td>8124</td>\n",
       "      <td>2</td>\n",
       "      <td>f</td>\n",
       "      <td>4748</td>\n",
       "    </tr>\n",
       "    <tr>\n",
       "      <th>odor</th>\n",
       "      <td>8124</td>\n",
       "      <td>9</td>\n",
       "      <td>n</td>\n",
       "      <td>3528</td>\n",
       "    </tr>\n",
       "    <tr>\n",
       "      <th>gill-attachment</th>\n",
       "      <td>8124</td>\n",
       "      <td>2</td>\n",
       "      <td>f</td>\n",
       "      <td>7914</td>\n",
       "    </tr>\n",
       "    <tr>\n",
       "      <th>gill-spacing</th>\n",
       "      <td>8124</td>\n",
       "      <td>2</td>\n",
       "      <td>c</td>\n",
       "      <td>6812</td>\n",
       "    </tr>\n",
       "    <tr>\n",
       "      <th>gill-size</th>\n",
       "      <td>8124</td>\n",
       "      <td>2</td>\n",
       "      <td>b</td>\n",
       "      <td>5612</td>\n",
       "    </tr>\n",
       "    <tr>\n",
       "      <th>gill-color</th>\n",
       "      <td>8124</td>\n",
       "      <td>12</td>\n",
       "      <td>b</td>\n",
       "      <td>1728</td>\n",
       "    </tr>\n",
       "    <tr>\n",
       "      <th>stalk-shape</th>\n",
       "      <td>8124</td>\n",
       "      <td>2</td>\n",
       "      <td>t</td>\n",
       "      <td>4608</td>\n",
       "    </tr>\n",
       "    <tr>\n",
       "      <th>stalk-root</th>\n",
       "      <td>8124</td>\n",
       "      <td>5</td>\n",
       "      <td>b</td>\n",
       "      <td>3776</td>\n",
       "    </tr>\n",
       "    <tr>\n",
       "      <th>stalk-surface-above-ring</th>\n",
       "      <td>8124</td>\n",
       "      <td>4</td>\n",
       "      <td>s</td>\n",
       "      <td>5176</td>\n",
       "    </tr>\n",
       "    <tr>\n",
       "      <th>stalk-surface-below-ring</th>\n",
       "      <td>8124</td>\n",
       "      <td>4</td>\n",
       "      <td>s</td>\n",
       "      <td>4936</td>\n",
       "    </tr>\n",
       "    <tr>\n",
       "      <th>stalk-color-above-ring</th>\n",
       "      <td>8124</td>\n",
       "      <td>9</td>\n",
       "      <td>w</td>\n",
       "      <td>4464</td>\n",
       "    </tr>\n",
       "    <tr>\n",
       "      <th>stalk-color-below-ring</th>\n",
       "      <td>8124</td>\n",
       "      <td>9</td>\n",
       "      <td>w</td>\n",
       "      <td>4384</td>\n",
       "    </tr>\n",
       "    <tr>\n",
       "      <th>veil-type</th>\n",
       "      <td>8124</td>\n",
       "      <td>1</td>\n",
       "      <td>p</td>\n",
       "      <td>8124</td>\n",
       "    </tr>\n",
       "    <tr>\n",
       "      <th>veil-color</th>\n",
       "      <td>8124</td>\n",
       "      <td>4</td>\n",
       "      <td>w</td>\n",
       "      <td>7924</td>\n",
       "    </tr>\n",
       "    <tr>\n",
       "      <th>ring-number</th>\n",
       "      <td>8124</td>\n",
       "      <td>3</td>\n",
       "      <td>o</td>\n",
       "      <td>7488</td>\n",
       "    </tr>\n",
       "    <tr>\n",
       "      <th>ring-type</th>\n",
       "      <td>8124</td>\n",
       "      <td>5</td>\n",
       "      <td>p</td>\n",
       "      <td>3968</td>\n",
       "    </tr>\n",
       "    <tr>\n",
       "      <th>spore-print-color</th>\n",
       "      <td>8124</td>\n",
       "      <td>9</td>\n",
       "      <td>w</td>\n",
       "      <td>2388</td>\n",
       "    </tr>\n",
       "    <tr>\n",
       "      <th>population</th>\n",
       "      <td>8124</td>\n",
       "      <td>6</td>\n",
       "      <td>v</td>\n",
       "      <td>4040</td>\n",
       "    </tr>\n",
       "    <tr>\n",
       "      <th>habitat</th>\n",
       "      <td>8124</td>\n",
       "      <td>7</td>\n",
       "      <td>d</td>\n",
       "      <td>3148</td>\n",
       "    </tr>\n",
       "  </tbody>\n",
       "</table>\n",
       "</div>"
      ],
      "text/plain": [
       "                         count unique top  freq\n",
       "class                     8124      2   e  4208\n",
       "cap-shape                 8124      6   x  3656\n",
       "cap-surface               8124      4   y  3244\n",
       "cap-color                 8124     10   n  2284\n",
       "bruises                   8124      2   f  4748\n",
       "odor                      8124      9   n  3528\n",
       "gill-attachment           8124      2   f  7914\n",
       "gill-spacing              8124      2   c  6812\n",
       "gill-size                 8124      2   b  5612\n",
       "gill-color                8124     12   b  1728\n",
       "stalk-shape               8124      2   t  4608\n",
       "stalk-root                8124      5   b  3776\n",
       "stalk-surface-above-ring  8124      4   s  5176\n",
       "stalk-surface-below-ring  8124      4   s  4936\n",
       "stalk-color-above-ring    8124      9   w  4464\n",
       "stalk-color-below-ring    8124      9   w  4384\n",
       "veil-type                 8124      1   p  8124\n",
       "veil-color                8124      4   w  7924\n",
       "ring-number               8124      3   o  7488\n",
       "ring-type                 8124      5   p  3968\n",
       "spore-print-color         8124      9   w  2388\n",
       "population                8124      6   v  4040\n",
       "habitat                   8124      7   d  3148"
      ]
     },
     "execution_count": 16,
     "metadata": {},
     "output_type": "execute_result"
    }
   ],
   "source": [
    "mushrooms.describe().T"
   ]
  },
  {
   "cell_type": "code",
   "execution_count": 17,
   "id": "bd691fc8",
   "metadata": {},
   "outputs": [
    {
     "data": {
      "text/plain": [
       "<bound method NDFrame._add_numeric_operations.<locals>.sum of       class  cap-shape  cap-surface  cap-color  bruises   odor  \\\n",
       "0     False      False        False      False    False  False   \n",
       "1     False      False        False      False    False  False   \n",
       "2     False      False        False      False    False  False   \n",
       "3     False      False        False      False    False  False   \n",
       "4     False      False        False      False    False  False   \n",
       "...     ...        ...          ...        ...      ...    ...   \n",
       "8119  False      False        False      False    False  False   \n",
       "8120  False      False        False      False    False  False   \n",
       "8121  False      False        False      False    False  False   \n",
       "8122  False      False        False      False    False  False   \n",
       "8123  False      False        False      False    False  False   \n",
       "\n",
       "      gill-attachment  gill-spacing  gill-size  gill-color  ...  \\\n",
       "0               False         False      False       False  ...   \n",
       "1               False         False      False       False  ...   \n",
       "2               False         False      False       False  ...   \n",
       "3               False         False      False       False  ...   \n",
       "4               False         False      False       False  ...   \n",
       "...               ...           ...        ...         ...  ...   \n",
       "8119            False         False      False       False  ...   \n",
       "8120            False         False      False       False  ...   \n",
       "8121            False         False      False       False  ...   \n",
       "8122            False         False      False       False  ...   \n",
       "8123            False         False      False       False  ...   \n",
       "\n",
       "      stalk-surface-below-ring  stalk-color-above-ring  \\\n",
       "0                        False                   False   \n",
       "1                        False                   False   \n",
       "2                        False                   False   \n",
       "3                        False                   False   \n",
       "4                        False                   False   \n",
       "...                        ...                     ...   \n",
       "8119                     False                   False   \n",
       "8120                     False                   False   \n",
       "8121                     False                   False   \n",
       "8122                     False                   False   \n",
       "8123                     False                   False   \n",
       "\n",
       "      stalk-color-below-ring  veil-type  veil-color  ring-number  ring-type  \\\n",
       "0                      False      False       False        False      False   \n",
       "1                      False      False       False        False      False   \n",
       "2                      False      False       False        False      False   \n",
       "3                      False      False       False        False      False   \n",
       "4                      False      False       False        False      False   \n",
       "...                      ...        ...         ...          ...        ...   \n",
       "8119                   False      False       False        False      False   \n",
       "8120                   False      False       False        False      False   \n",
       "8121                   False      False       False        False      False   \n",
       "8122                   False      False       False        False      False   \n",
       "8123                   False      False       False        False      False   \n",
       "\n",
       "      spore-print-color  population  habitat  \n",
       "0                 False       False    False  \n",
       "1                 False       False    False  \n",
       "2                 False       False    False  \n",
       "3                 False       False    False  \n",
       "4                 False       False    False  \n",
       "...                 ...         ...      ...  \n",
       "8119              False       False    False  \n",
       "8120              False       False    False  \n",
       "8121              False       False    False  \n",
       "8122              False       False    False  \n",
       "8123              False       False    False  \n",
       "\n",
       "[8124 rows x 23 columns]>"
      ]
     },
     "execution_count": 17,
     "metadata": {},
     "output_type": "execute_result"
    }
   ],
   "source": [
    "mushrooms.isnull().sum\n",
    "# check for any NA entries to remove"
   ]
  },
  {
   "cell_type": "code",
   "execution_count": 18,
   "id": "b96877ed",
   "metadata": {},
   "outputs": [
    {
     "name": "stdout",
     "output_type": "stream",
     "text": [
      "class ['e' 'p']\n",
      "cap-shape ['b' 'c' 'f' 'k' 's' 'x']\n",
      "cap-surface ['f' 'g' 's' 'y']\n",
      "cap-color ['b' 'c' 'e' 'g' 'n' 'p' 'r' 'u' 'w' 'y']\n",
      "bruises ['f' 't']\n",
      "odor ['a' 'c' 'f' 'l' 'm' 'n' 'p' 's' 'y']\n",
      "gill-attachment ['a' 'f']\n",
      "gill-spacing ['c' 'w']\n",
      "gill-size ['b' 'n']\n",
      "gill-color ['b' 'e' 'g' 'h' 'k' 'n' 'o' 'p' 'r' 'u' 'w' 'y']\n",
      "stalk-shape ['e' 't']\n",
      "stalk-root ['?' 'b' 'c' 'e' 'r']\n",
      "stalk-surface-above-ring ['f' 'k' 's' 'y']\n",
      "stalk-surface-below-ring ['f' 'k' 's' 'y']\n",
      "stalk-color-above-ring ['b' 'c' 'e' 'g' 'n' 'o' 'p' 'w' 'y']\n",
      "stalk-color-below-ring ['b' 'c' 'e' 'g' 'n' 'o' 'p' 'w' 'y']\n",
      "veil-type ['p']\n",
      "veil-color ['n' 'o' 'w' 'y']\n",
      "ring-number ['n' 'o' 't']\n",
      "ring-type ['e' 'f' 'l' 'n' 'p']\n",
      "spore-print-color ['b' 'h' 'k' 'n' 'o' 'r' 'u' 'w' 'y']\n",
      "population ['a' 'c' 'n' 's' 'v' 'y']\n",
      "habitat ['d' 'g' 'l' 'm' 'p' 'u' 'w']\n"
     ]
    }
   ],
   "source": [
    "# Lets explore\n",
    "from sklearn.preprocessing import LabelEncoder\n",
    "def label_encoded(feat):\n",
    "    le=LabelEncoder()\n",
    "    le.fit(feat)\n",
    "    print(feat.name,le.classes_)\n",
    "    return le.transform(feat)\n",
    "for col in mushrooms.columns:\n",
    "    mushrooms[str(col)] = label_encoded(mushrooms[str(col)])"
   ]
  },
  {
   "cell_type": "code",
   "execution_count": 19,
   "id": "1fe6e36a",
   "metadata": {},
   "outputs": [
    {
     "name": "stdout",
     "output_type": "stream",
     "text": [
      "class [0 1]\n",
      "cap-shape [0 1 2 3 4 5]\n",
      "cap-surface [0 1 2 3]\n",
      "cap-color [0 1 2 3 4 5 6 7 8 9]\n",
      "bruises [0 1]\n",
      "odor [0 1 2 3 4 5 6 7 8]\n",
      "gill-attachment [0 1]\n",
      "gill-spacing [0 1]\n",
      "gill-size [0 1]\n",
      "gill-color [ 0  1  2  3  4  5  6  7  8  9 10 11]\n",
      "stalk-shape [0 1]\n",
      "stalk-root [0 1 2 3 4]\n",
      "stalk-surface-above-ring [0 1 2 3]\n",
      "stalk-surface-below-ring [0 1 2 3]\n",
      "stalk-color-above-ring [0 1 2 3 4 5 6 7 8]\n",
      "stalk-color-below-ring [0 1 2 3 4 5 6 7 8]\n",
      "veil-type [0]\n",
      "veil-color [0 1 2 3]\n",
      "ring-number [0 1 2]\n",
      "ring-type [0 1 2 3 4]\n",
      "spore-print-color [0 1 2 3 4 5 6 7 8]\n",
      "population [0 1 2 3 4 5]\n",
      "habitat [0 1 2 3 4 5 6]\n"
     ]
    }
   ],
   "source": [
    "for col in mushrooms.columns:\n",
    "    mushrooms[str(col)] = label_encoded(mushrooms[str(col)])\n",
    "# for reference to see the encodings"
   ]
  },
  {
   "cell_type": "code",
   "execution_count": 20,
   "id": "c3e00fe0",
   "metadata": {},
   "outputs": [
    {
     "data": {
      "text/plain": [
       "<AxesSubplot:>"
      ]
     },
     "execution_count": 20,
     "metadata": {},
     "output_type": "execute_result"
    },
    {
     "data": {
      "image/png": "[encoded data removed]",
      "text/plain": [
       "<Figure size 432x288 with 2 Axes>"
      ]
     },
     "metadata": {
      "needs_background": "light"
     },
     "output_type": "display_data"
    }
   ],
   "source": [
    "import seaborn as sns\n",
    "corr=mushrooms.corr()\n",
    "sns.heatmap(corr)"
   ]
  },
  {
   "cell_type": "code",
   "execution_count": 21,
   "id": "5507e79b",
   "metadata": {},
   "outputs": [],
   "source": [
    "# remove veil-type as its only 1 value\n",
    "mushrooms = mushrooms.drop('veil-type', axis=1)"
   ]
  },
  {
   "cell_type": "code",
   "execution_count": 22,
   "id": "ee82a0cd",
   "metadata": {},
   "outputs": [
    {
     "data": {
      "text/plain": [
       "<AxesSubplot:>"
      ]
     },
     "execution_count": 22,
     "metadata": {},
     "output_type": "execute_result"
    },
    {
     "data": {
      "image/png": "[encoded data removed]",
      "text/plain": [
       "<Figure size 432x288 with 2 Axes>"
      ]
     },
     "metadata": {
      "needs_background": "light"
     },
     "output_type": "display_data"
    }
   ],
   "source": [
    "corr=mushrooms.corr()\n",
    "sns.heatmap(corr)"
   ]
  },
  {
   "cell_type": "code",
   "execution_count": 23,
   "id": "09410733",
   "metadata": {},
   "outputs": [],
   "source": [
    "# Split the dataset into Training and Testing:\n",
    "X = mushrooms.drop('class', axis=1)\n",
    "y = mushrooms['class']\n",
    "\n",
    "X_train, X_test, y_train, y_test =train_test_split(\n",
    "    X, y, test_size=0.2, random_state=9)\n",
    "\n",
    "stdscaler = preprocessing.StandardScaler().fit(X_train)\n",
    "X_train_scaled = stdscaler.transform(X_train)\n",
    "X_test_scaled  = stdscaler.transform(X_test)"
   ]
  },
  {
   "cell_type": "code",
   "execution_count": 24,
   "id": "8c02f34c",
   "metadata": {},
   "outputs": [
    {
     "name": "stdout",
     "output_type": "stream",
     "text": [
      "Epoch 1/20\n",
      "1300/1300 [==============================] - 1s 516us/step - loss: 0.1531\n",
      "Epoch 2/20\n",
      "1300/1300 [==============================] - 1s 500us/step - loss: 0.1087\n",
      "Epoch 3/20\n",
      "1300/1300 [==============================] - 1s 564us/step - loss: 0.0956\n",
      "Epoch 4/20\n",
      "1300/1300 [==============================] - 1s 574us/step - loss: 0.0868 0s - los\n",
      "Epoch 5/20\n",
      "1300/1300 [==============================] - 1s 499us/step - loss: 0.0799\n",
      "Epoch 6/20\n",
      "1300/1300 [==============================] - 1s 487us/step - loss: 0.0745\n",
      "Epoch 7/20\n",
      "1300/1300 [==============================] - 1s 503us/step - loss: 0.0704\n",
      "Epoch 8/20\n",
      "1300/1300 [==============================] - 1s 535us/step - loss: 0.0667\n",
      "Epoch 9/20\n",
      "1300/1300 [==============================] - 1s 516us/step - loss: 0.0634\n",
      "Epoch 10/20\n",
      "1300/1300 [==============================] - 1s 562us/step - loss: 0.0603\n",
      "Epoch 11/20\n",
      "1300/1300 [==============================] - 1s 502us/step - loss: 0.0574\n",
      "Epoch 12/20\n",
      "1300/1300 [==============================] - 1s 486us/step - loss: 0.0548\n",
      "Epoch 13/20\n",
      "1300/1300 [==============================] - 1s 498us/step - loss: 0.0520\n",
      "Epoch 14/20\n",
      "1300/1300 [==============================] - 1s 480us/step - loss: 0.0498\n",
      "Epoch 15/20\n",
      "1300/1300 [==============================] - 1s 514us/step - loss: 0.0474\n",
      "Epoch 16/20\n",
      "1300/1300 [==============================] - 1s 508us/step - loss: 0.0452\n",
      "Epoch 17/20\n",
      "1300/1300 [==============================] - 1s 518us/step - loss: 0.0430\n",
      "Epoch 18/20\n",
      "1300/1300 [==============================] - 1s 547us/step - loss: 0.0410\n",
      "Epoch 19/20\n",
      "1300/1300 [==============================] - 1s 552us/step - loss: 0.0390\n",
      "Epoch 20/20\n",
      "1300/1300 [==============================] - 1s 551us/step - loss: 0.0373\n"
     ]
    },
    {
     "data": {
      "text/plain": [
       "<tensorflow.python.keras.callbacks.History at 0x2b5e7ece8e0>"
      ]
     },
     "execution_count": 24,
     "metadata": {},
     "output_type": "execute_result"
    }
   ],
   "source": [
    "# Run Contrasting Techniques\n",
    "# Technique 1 - Neural Network\n",
    "from keras.models import Sequential\n",
    "from keras.layers import Dense\n",
    "from keras.regularizers import l2, l1\n",
    "from keras.optimizers import SGD\n",
    "\n",
    "model = Sequential()\n",
    "model.add(Dense(units=64, input_shape=[X_train_scaled.shape[1]], activation='relu'))\n",
    "model.add(Dense(units=64, activation='relu'))\n",
    "model.add(Dense(units=1, activation='sigmoid'))\n",
    "\n",
    "sgd = SGD(learning_rate=0.001)\n",
    "model.compile(loss='mean_squared_error', optimizer=sgd)\n",
    "\n",
    "model.fit(X_train, y_train,batch_size=5, epochs=20)"
   ]
  },
  {
   "cell_type": "code",
   "execution_count": 25,
   "id": "bfe009a1",
   "metadata": {},
   "outputs": [
    {
     "data": {
      "text/plain": [
       "array([[852,  23],\n",
       "       [ 35, 715]], dtype=int64)"
      ]
     },
     "execution_count": 25,
     "metadata": {},
     "output_type": "execute_result"
    }
   ],
   "source": [
    "# Technique 1 - Confusion Matrix\n",
    "from sklearn.metrics import accuracy_score,confusion_matrix\n",
    "\n",
    "pred=model.predict(X_test)\n",
    "pred=pred>0.5\n",
    "confusion_matrix(y_test,pred)"
   ]
  },
  {
   "cell_type": "code",
   "execution_count": 26,
   "id": "2cb1938c",
   "metadata": {},
   "outputs": [
    {
     "name": "stdout",
     "output_type": "stream",
     "text": [
      "Precision: 0.969\n"
     ]
    }
   ],
   "source": [
    "# Technique 1 - Precision Score\n",
    "# Precision = TP / (FP + TP)\n",
    "from sklearn.metrics import precision_score, recall_score, f1_score\n",
    "print('Precision: %.3f' %\n",
    "     precision_score(y_test, pred))"
   ]
  },
  {
   "cell_type": "code",
   "execution_count": 27,
   "id": "b8b67f55",
   "metadata": {},
   "outputs": [
    {
     "name": "stdout",
     "output_type": "stream",
     "text": [
      "Recall: 0.953\n"
     ]
    }
   ],
   "source": [
    "# Technique 1 - Recall Score\n",
    "# Recall = TP / (FN + TP)\n",
    "print('Recall: %.3f' %\n",
    "     recall_score(y_test, pred))"
   ]
  },
  {
   "cell_type": "code",
   "execution_count": 28,
   "id": "776f9bba",
   "metadata": {},
   "outputs": [
    {
     "name": "stdout",
     "output_type": "stream",
     "text": [
      "Accuracy: 0.964\n"
     ]
    }
   ],
   "source": [
    "# Technique 1 - Accuracy\n",
    "# Accuracy = (TP + TN) / (TP + FN + TN + FP)\n",
    "print('Accuracy: %.3f' %\n",
    "     accuracy_score(y_test, pred))"
   ]
  },
  {
   "cell_type": "code",
   "execution_count": 29,
   "id": "9e6cb866",
   "metadata": {},
   "outputs": [
    {
     "name": "stdout",
     "output_type": "stream",
     "text": [
      "F1 Score: 0.961\n"
     ]
    }
   ],
   "source": [
    "# Technique 1 - F1 Score\n",
    "# F1 Score = [2*(precision * recall)] / (precision + recall)\n",
    "print('F1 Score: %.3f' %\n",
    "     f1_score(y_test, pred))"
   ]
  },
  {
   "cell_type": "code",
   "execution_count": 30,
   "id": "f2e0231d",
   "metadata": {},
   "outputs": [],
   "source": [
    "############################################################################################################################"
   ]
  },
  {
   "cell_type": "code",
   "execution_count": 31,
   "id": "95549703",
   "metadata": {},
   "outputs": [
    {
     "name": "stderr",
     "output_type": "stream",
     "text": [
      "<ipython-input-31-00f3f1387634>:24: SettingWithCopyWarning: \n",
      "A value is trying to be set on a copy of a slice from a DataFrame.\n",
      "Try using .loc[row_indexer,col_indexer] = value instead\n",
      "\n",
      "See the caveats in the documentation: https://pandas.pydata.org/pandas-docs/stable/user_guide/indexing.html#returning-a-view-versus-a-copy\n",
      "  label_X2_train[categorical_cols_X2] = ordinal_encoder.fit_transform(X2_train[categorical_cols_X2])\n",
      "<ipython-input-31-00f3f1387634>:25: SettingWithCopyWarning: \n",
      "A value is trying to be set on a copy of a slice from a DataFrame.\n",
      "Try using .loc[row_indexer,col_indexer] = value instead\n",
      "\n",
      "See the caveats in the documentation: https://pandas.pydata.org/pandas-docs/stable/user_guide/indexing.html#returning-a-view-versus-a-copy\n",
      "  label_X2_test[categorical_cols_X2] = ordinal_encoder.transform(X2_test[categorical_cols_X2])\n"
     ]
    }
   ],
   "source": [
    "# Technique 2 - Random Forest Classifier (Regression)\n",
    "# Split the dataset into Training and Testing:\n",
    "from sklearn.model_selection import train_test_split\n",
    "from sklearn.ensemble import RandomForestClassifier\n",
    "from sklearn.metrics import mean_absolute_error\n",
    "from sklearn.preprocessing import OneHotEncoder\n",
    "from sklearn.preprocessing import OrdinalEncoder\n",
    "\n",
    "X2 = mushrooms.drop(['class'],axis=1)\n",
    "y2 = mushrooms['class']\n",
    "\n",
    "categorical_cols_X2 = [cname for cname in X2.columns if \n",
    "                    X2[cname].dtype == \"object\"]\n",
    "good_label_cols = ['class']\n",
    "\n",
    "label_y2_train = mushrooms.drop(categorical_cols_X2, axis=1)\n",
    "ordinal_encoder = OrdinalEncoder()\n",
    "label_y2_train[good_label_cols] = ordinal_encoder.fit_transform(mushrooms[good_label_cols])\n",
    "\n",
    "X2_train, X2_test, y2_train, y2_test = train_test_split(X2,label_y2_train,train_size=0.8, test_size=0.2,random_state=0)\n",
    "\n",
    "label_X2_train = X2_train\n",
    "label_X2_test = X2_test\n",
    "label_X2_train[categorical_cols_X2] = ordinal_encoder.fit_transform(X2_train[categorical_cols_X2])\n",
    "label_X2_test[categorical_cols_X2] = ordinal_encoder.transform(X2_test[categorical_cols_X2])"
   ]
  },
  {
   "cell_type": "code",
   "execution_count": 32,
   "id": "2b9c0732",
   "metadata": {},
   "outputs": [
    {
     "name": "stdout",
     "output_type": "stream",
     "text": [
      "0.0033006993006993003\n"
     ]
    }
   ],
   "source": [
    "# Technique 2 and its Mean Absolute Error\n",
    "model2 = RandomForestClassifier()\n",
    "model2.fit(label_X2_train, y2_train)\n",
    "pred2 = model2.predict(label_X2_test)\n",
    "print(mean_absolute_error(y2_test, pred2))"
   ]
  }
 ],
 "metadata": {
  "kernelspec": {
   "display_name": "Python 3",
   "language": "python",
   "name": "python3"
  },
  "language_info": {
   "codemirror_mode": {
    "name": "ipython",
    "version": 3
   },
   "file_extension": ".py",
   "mimetype": "text/x-python",
   "name": "python",
   "nbconvert_exporter": "python",
   "pygments_lexer": "ipython3",
   "version": "3.8.8"
  }
 },
 "nbformat": 4,
 "nbformat_minor": 5
}
