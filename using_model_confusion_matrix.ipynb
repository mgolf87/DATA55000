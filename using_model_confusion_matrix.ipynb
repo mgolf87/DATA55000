{
 "cells": [
  {
   "cell_type": "markdown",
   "metadata": {},
   "source": [
    "## Using the model to do predictions\n",
    "\n",
    "**NOTE: The code below, assumes that the model is already built and stored in variable <code>model</code>**\n",
    "\n",
    "Let's use the model we built and stored in `model`, to do some predictions.\n",
    "\n",
    "The second image in the testing dataset is used (`X_test[1]`), first, the image is shown using (`imshow()`), then predictions is made on the image. Recall that `X_test[1]` is list of 1D representations of the images, therefore, it needs to be converted back to a 2D of $28 \\times 28$ pixles before passed in to `imshow()` for display.\n",
    "\n",
    "Then, two prediction functions will be used:\n",
    "\n",
    "1- `model.predict()`: takes in a numpy array of 1D representation of an image, and produces the posterior probabilites of all possible classes, in our example, we have 10 classes corresponding to letters *a* to *j*.\n",
    "\n",
    "2- `model.predict_classes()`: takes in a numpy array of 1D representation of an image and process a class.\n"
   ]
  },
  {
   "cell_type": "code",
   "execution_count": 12,
   "metadata": {},
   "outputs": [
    {
     "name": "stdout",
     "output_type": "stream",
     "text": [
      "posterior probabilities for of each class: [[0.00179249 0.00967619 0.03170863 0.00785542 0.00198635 0.00108948\n",
      "  0.22192544 0.00066787 0.00077771 0.0035956 ]]\n",
      "predicted class (highest posterior): [6]\n"
     ]
    },
    {
     "data": {
      "image/png": "[encoded data removed]",
      "text/plain": [
       "<Figure size 432x288 with 1 Axes>"
      ]
     },
     "metadata": {
      "needs_background": "light"
     },
     "output_type": "display_data"
    }
   ],
   "source": [
    "#Let's try to use the model to predict the class of the 2nd element\n",
    "#in our testing data set (i.e., X_test[1])\n",
    "\n",
    "#In order to show it as an image, we need to convert it back to 2D (28 x 28)\n",
    "#array of pixles\n",
    "image_as_1D = X_test[1]\n",
    "image_as_2D = np.reshape(image_as_1D, (28, -1)) # 2nd dimension can be inferred\n",
    "\n",
    "plt.imshow(image_as_2D, cmap=\"gray\");\n",
    "\n",
    "#Using predict() and predict_classes\n",
    "#both functions, expect the 1D version of the image\n",
    "predicted = model.predict(np.array([image_as_1D]))\n",
    "predicted_class = model.predict_classes(np.array([image_as_1D]))\n",
    "print(\"posterior probabilities for of each class: {}\".format(predicted))\n",
    "print(\"predicted class (highest posterior): {}\".format(predicted_class))\n"
   ]
  },
  {
   "cell_type": "markdown",
   "metadata": {},
   "source": [
    "## Generating the confusion matrix\n",
    "\n",
    "In order to create confusion matrix on the testing data set\n",
    "\n",
    "1- obtain true classes for images in the testing data set: recall that y_test is one-hot encoding of true class, need to be converted back a class, function, ohe_to_classes(y), will be used to do that. The function simply takes a list of one-hot encoded classes, and returns a list of scalars, scalars represent the index of the 1 value in each one-hot encoded class of y.\n",
    "\n",
    "2- use the model to predict classes of all images in the test data set (use .predict_classes)\n",
    "\n",
    "3- use functions, classification_report, confusion matrix, f1_score and accuracy_score from sklearn.metrics module as needed.\n"
   ]
  },
  {
   "cell_type": "code",
   "execution_count": 7,
   "metadata": {},
   "outputs": [],
   "source": [
    "import numpy as np\n",
    "def ohe_to_classes(y):\n",
    "    '''\n",
    "        converts one hot encoding to classes\n",
    "        y: a list of one-hot-encoded classes of data points\n",
    "    '''\n",
    "    return [np.argmax(v) for v in y]\n"
   ]
  },
  {
   "cell_type": "code",
   "execution_count": 8,
   "metadata": {},
   "outputs": [
    {
     "name": "stdout",
     "output_type": "stream",
     "text": [
      "class of data point 1: 1\n",
      "class of data point 2: 0\n"
     ]
    }
   ],
   "source": [
    "# Let's try it\n",
    "\n",
    "# an example of an array of one-hot-encoded classes, note that each row has exactly one value as 1.\n",
    "# this example represents 2 data points\n",
    "# Note that we have three classes in this example, class 0, 1, 2\n",
    "ohe_example= [[0, 1, 0], [1, 0, 0]]\n",
    "\n",
    "# the function converts the one-hot-encoding of the data sample class, to its class (0, 1, or 2)\n",
    "true_classes = ohe_to_classes(np.array(ohe_example))\n",
    "\n",
    "# true_classes is an 1D array of the sample data classes.\n",
    "print(\"class of data point 1: {}\".format(true_classes[0]))\n",
    "print(\"class of data point 2: {}\".format(true_classes[1]))\n",
    "      "
   ]
  },
  {
   "cell_type": "code",
   "execution_count": 17,
   "metadata": {
    "scrolled": true
   },
   "outputs": [
    {
     "name": "stdout",
     "output_type": "stream",
     "text": [
      "predicted classes: [5 6 8 ... 1 3 0]\n",
      "accuracy 0.8609271523178808\n",
      "confusion matrix\n",
      "[[809  27  10  12  12   7  14  44  19   7]\n",
      " [  9 801   1  20  11   0  13   6   6   6]\n",
      " [  7   6 868  15  65  11  92   5  13  10]\n",
      " [  5  19   2 777   2   1   7   9  10   9]\n",
      " [  2  14   9   3 746   4  14  15  13   0]\n",
      " [  2  13  11  12  31 880  24  23  11  10]\n",
      " [  4   4  12   4   9   2 746   3   4   3]\n",
      " [ 31  10   2   6   6   1   5 826  17   2]\n",
      " [ 11  24  12  17  33  20  10  13 812  64]\n",
      " [ 46  20   6  33  10  28  18  20  69 795]]\n",
      "\n",
      "\n",
      "              precision    recall  f1-score   support\n",
      "\n",
      "           0       0.87      0.84      0.86       961\n",
      "           1       0.85      0.92      0.88       873\n",
      "           2       0.93      0.79      0.86      1092\n",
      "           3       0.86      0.92      0.89       841\n",
      "           4       0.81      0.91      0.86       820\n",
      "           5       0.92      0.87      0.89      1017\n",
      "           6       0.79      0.94      0.86       791\n",
      "           7       0.86      0.91      0.88       906\n",
      "           8       0.83      0.80      0.82      1016\n",
      "           9       0.88      0.76      0.81      1045\n",
      "\n",
      "    accuracy                           0.86      9362\n",
      "   macro avg       0.86      0.87      0.86      9362\n",
      "weighted avg       0.86      0.86      0.86      9362\n",
      "\n"
     ]
    }
   ],
   "source": [
    "from sklearn.metrics import classification_report, f1_score, accuracy_score, confusion_matrix\n",
    "\n",
    "predicted_all = model.predict_classes(np.array(X_test))\n",
    "print(\"predicted classes: {}\".format(predicted_all))\n",
    "\n",
    "# Have to convert one-hot-encoding to actual classes: 0 - 9\n",
    "y_true_classes = ohe_to_classes(y_test)\n",
    "\n",
    "\n",
    "print('accuracy', accuracy_score(predicted_all, y_true_classes))\n",
    "confusion_mat = confusion_matrix(predicted_all, y_true_classes)\n",
    "print(\"confusion matrix\\n{}\\n\\n\".format(confusion_mat))\n",
    "\n",
    "print(classification_report(predicted_all, y_true_classes))\n"
   ]
  },
  {
   "cell_type": "code",
   "execution_count": null,
   "metadata": {},
   "outputs": [],
   "source": []
  }
 ],
 "metadata": {
  "kernelspec": {
   "display_name": "Python 3",
   "language": "python",
   "name": "python3"
  },
  "language_info": {
   "codemirror_mode": {
    "name": "ipython",
    "version": 3
   },
   "file_extension": ".py",
   "mimetype": "text/x-python",
   "name": "python",
   "nbconvert_exporter": "python",
   "pygments_lexer": "ipython3",
   "version": "3.8.8"
  }
 },
 "nbformat": 4,
 "nbformat_minor": 2
}
